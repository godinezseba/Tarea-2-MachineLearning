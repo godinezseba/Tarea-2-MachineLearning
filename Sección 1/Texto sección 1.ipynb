{
 "cells": [
  {
   "cell_type": "markdown",
   "metadata": {},
   "source": [
    "## a)\n",
    "\n",
    "En primer lugar se visualizan algunas de las entradas de uno de los dataset junto con su largo de para familiarizarse con su estructura. \n",
    "\n",
    "Luego se observa la cantidad de datos de cada dataset y cuantos ejemplos hay por clase. Se ve que hay aproximadamente la misma cantidad de ejemplos de cada clase en ambos dataset.\n",
    "\n",
    "Finalmente se ven los largos de cada uno de los textos de ambos dataset. Se ve que son ambos muy similares, dado que tienen tanto un largo promedio como desviación estandar semejantes.\n",
    "\n",
    "## b)\n",
    "\n",
    "Se decide utilizar una proporción conservadora de 70% de los datos para entramiento y 30% de los datos para validar los resultados.\n",
    "\n",
    "## c)\n",
    "\n",
    "Hay dos razones fundamentales por las que es necesario pre procesar la data. La primera es obtener una representación que se pueda trabajar computacionalmente, esto es que todas tengan un formato pre establecido. La segunda razón es que el lenguaje natural es ambiguo, se puede dar el caso que para un mismo texto exista más de una representación. Es por esto que se trata de reducir cada texto a su \"escencia\", para así poder clasificarlos correctamente.\n",
    "\n",
    "## d)\n",
    "\n",
    "Se obtiene una representación vectorial para los datos y se se crea una tupla de cada palabra con su respectiva frecuencia. Al analisar los resultados se ve que las palabras utilizadas mas frecuentemente en todos los dataset son \"film\" y \"movie\". Este resultado es el esperado, dado que el tema que se esta discutiendo es sobre una película. \n",
    "\n",
    "## e)\n",
    "\n",
    "Dado que es difícil juzgar si un comentario es de connotación positiva o negativa solo con las palabras que contiene, dado que el orden también es importante. Por ejemplo, que aparezca la palabra \"malo\" no necesariemente implica que el comentario sea negativo. Al utilizar LSA se ve que las palabras se aglomeran en distintos grupos los cuales podrian interpretarse como los tópicos que abordan los comentarios. Además se ve que en todos estos grupos hay miembros de ambas clases.\n",
    "\n",
    "Al igual que con el caso de LSA se ve que hay un agrupamiento de dados, pero es no es tan marcada la diferencia como en el caso anterior.\n",
    "\n"
   ]
  },
  {
   "cell_type": "code",
   "execution_count": null,
   "metadata": {},
   "outputs": [],
   "source": []
  }
 ],
 "metadata": {
  "kernelspec": {
   "display_name": "Python 3",
   "language": "python",
   "name": "python3"
  },
  "language_info": {
   "codemirror_mode": {
    "name": "ipython",
    "version": 3
   },
   "file_extension": ".py",
   "mimetype": "text/x-python",
   "name": "python",
   "nbconvert_exporter": "python",
   "pygments_lexer": "ipython3",
   "version": "3.7.3"
  }
 },
 "nbformat": 4,
 "nbformat_minor": 2
}
